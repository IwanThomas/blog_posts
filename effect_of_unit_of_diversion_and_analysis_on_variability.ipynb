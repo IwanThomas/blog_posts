{
 "cells": [
  {
   "cell_type": "markdown",
   "metadata": {},
   "source": [
    "## The effect of using different units of diversion and analysis on the variability of your metrics in A/B Testing\n",
    "\n",
    "\n",
    "### Introduction\n",
    "\n",
    "Session level metrics are commonly used to measure website performance. Unsurprisingly, when websites begin to run experimentation programs, they often use these same session-level metrics to evaluate A/B experiments. A common experimental setup will therefore split traffic on a cookie and measure the performance of an experiment using a session-level metric (e.g. $\\frac{conversions}{session}$)\n",
    "\n",
    "Once the experiment has run for the pre-determined length of time, a statistical test will be used to compare the performance of some test metric between the control and treatment(s). The statistical tests commonly used to analyse the results of A/B experiments (e.g. $\\chi^2 \\text{ test, } Z \\text{-test, }t \\text{-test, } etc.$) make many assumptions, and the robustness of any conclusions derived from these tests depends on the extent to which these assumptions are satisfied. The most stringent assumption is that each observation is independent. \n",
    "\n",
    "**In the experimental setup described above, is each session independent? Not necessarily.**\n",
    "\n",
    "***\n",
    "\n",
    "#### Violation of the Independence Assumption\n",
    "\n",
    "When a cookie is used to divert traffic, a user with multiple sessions will be allocated to a single test bucket. **These sessions are unlikely to be independent since user behaviour across sessions is likely to be correlated.** Diverting these users results in groups of correlated sessions appearing in each test bucket. This can significantly increase the variability of your metrics, resulting in your true empirical variability far exceeding your analytical variability. \n",
    "\n",
    "Intuitively we can understand this; calculating the session-level conversion from a sample of 5,000 independent sessions will yield a more reliable estimate of the true session-level conversion than that obtained from a sample of 5,000 sessions from 50 users. The variability of our metric should reflect this.\n",
    "\n",
    "\n",
    "#### Why is this a problem? \n",
    "\n",
    "Typically in computing significance tests or confidence intervals, the analytical estimate of the variability will be used. If this is smaller than the true empirical variability, your statistical tests can be unreliable. \n",
    "\n",
    "#### Simulation\n",
    "\n",
    "One way to understand the effect of using different units of diversion and observation is through simulation. In this case, we will simulate an experiment where $\\frac{conversions}{session}$ is our test metric and traffic is diverted to either group using a cookie. We'll use the bootstrap technique to construct a sampling distribution and compare this to the expected sampling distribution when we use the analytical variability."
   ]
  },
  {
   "cell_type": "code",
   "execution_count": 3,
   "metadata": {},
   "outputs": [],
   "source": [
    "import pandas as pd\n",
    "import numpy as np\n",
    "from scipy import stats\n",
    "import seaborn as sns\n",
    "import matplotlib.pyplot as plt\n",
    "import matplotlib.mlab as mlab\n",
    "%matplotlib inline"
   ]
  },
  {
   "cell_type": "code",
   "execution_count": 4,
   "metadata": {},
   "outputs": [],
   "source": [
    "# suppress future warnings\n",
    "import warnings\n",
    "warnings.simplefilter(action='ignore', category=FutureWarning)"
   ]
  },
  {
   "cell_type": "markdown",
   "metadata": {},
   "source": [
    "### Generate session-level data\n",
    "\n",
    "Each user may have multiple sessions; the number for each user is a Poisson random variable. Similarly, conversion for each session is a Bernoulli random variable."
   ]
  },
  {
   "cell_type": "code",
   "execution_count": 5,
   "metadata": {},
   "outputs": [],
   "source": [
    "def create_session_data(n, mu, p):\n",
    "    \"Randomly generate session-level data\"\n",
    "    user_id = pd.util.testing.rands_array(20, n) # random key for each user\n",
    "    sessions = []\n",
    "    conversions = []\n",
    "    \n",
    "    for e in user_id:\n",
    "        num_sessions = stats.poisson.rvs(mu)\n",
    "        user_sessions = np.repeat(e, num_sessions)\n",
    "        user_conversions = stats.bernoulli.rvs(p, size=num_sessions)\n",
    "        \n",
    "        sessions = np.append(sessions, user_sessions)\n",
    "        conversions = np.append(conversions, user_conversions)\n",
    "\n",
    "    # return a DataFrame\n",
    "    data = np.stack([sessions, conversions], axis=1)\n",
    "    df = pd.DataFrame(data, columns=['userid', 'conversion'], index=None)\n",
    "    df['conversion'] = pd.to_numeric(df['conversion'])\n",
    "    df['session'] = df.groupby('userid').cumcount() + 1 # start from 1\n",
    "    return df"
   ]
  },
  {
   "cell_type": "markdown",
   "metadata": {},
   "source": [
    "Using the function above, I create our session-level data, specifying three groups of users with distinct sample sizes, conversion rates and sessions per user."
   ]
  },
  {
   "cell_type": "code",
   "execution_count": 6,
   "metadata": {},
   "outputs": [],
   "source": [
    "N = [37500, 45000, 300]\n",
    "mus = [1.5, 1.2, 50]\n",
    "p_values = [0.2, 0.25, 0.7]\n",
    "group = ['A', 'B', 'C']\n",
    "\n",
    "sessions = []\n",
    "for n, mu, p, g in zip(N, mus, p_values, group):\n",
    "    data = create_session_data(n, mu, p)\n",
    "    data['group'] = g\n",
    "    sessions.append(data)\n",
    "    \n",
    "df_sessions = pd.concat(sessions)"
   ]
  },
  {
   "cell_type": "markdown",
   "metadata": {},
   "source": [
    "Let's have a glance at our data"
   ]
  },
  {
   "cell_type": "code",
   "execution_count": 7,
   "metadata": {},
   "outputs": [
    {
     "name": "stdout",
     "output_type": "stream",
     "text": [
      "Number of sessions 125203\n",
      "\n",
      "                 userid  conversion  session group\n",
      "0  J7SriOGXzMirh0sJYCDd         0.0        1     A\n",
      "1  olTXic6LZvSDTyiXPMBG         0.0        1     A\n",
      "2  olTXic6LZvSDTyiXPMBG         0.0        2     A\n",
      "3  P3ERLvlH5SOHSrM2RolK         0.0        1     A\n",
      "4  P3ERLvlH5SOHSrM2RolK         0.0        2     A\n"
     ]
    }
   ],
   "source": [
    "print (\"Number of sessions {}\\n\".format(len(df_sessions)))\n",
    "print (df_sessions.head())"
   ]
  },
  {
   "cell_type": "markdown",
   "metadata": {},
   "source": [
    "Convert the session-level data to user-level data"
   ]
  },
  {
   "cell_type": "code",
   "execution_count": 8,
   "metadata": {},
   "outputs": [],
   "source": [
    "def return_user_level_data(session_data):\n",
    "    user_data = session_data.groupby('userid')['conversion'].agg(['count', 'sum'])\n",
    "    user_data.columns = ['sessions', 'conversions']\n",
    "    return user_data"
   ]
  },
  {
   "cell_type": "code",
   "execution_count": 9,
   "metadata": {},
   "outputs": [],
   "source": [
    "df_users = return_user_level_data(df_sessions)"
   ]
  },
  {
   "cell_type": "code",
   "execution_count": 10,
   "metadata": {},
   "outputs": [
    {
     "name": "stdout",
     "output_type": "stream",
     "text": [
      "Number of users 60892\n",
      "\n",
      "                      sessions  conversions\n",
      "userid                                     \n",
      "000BZKzFq39NeSCfnfBl         2          0.0\n",
      "0015T8nYcvkHHfKhJRde         1          0.0\n",
      "007Rzyz15SC6FtteXEvJ         2          0.0\n",
      "00BoT0nlDOgNweSbzHHU         1          1.0\n",
      "00BrW25vvpP0tSE916RZ         3          2.0\n"
     ]
    }
   ],
   "source": [
    "print (\"Number of users {}\\n\".format(len(df_users)))\n",
    "print (df_users.head())"
   ]
  },
  {
   "cell_type": "markdown",
   "metadata": {},
   "source": [
    "Print out the session and user-level conversion"
   ]
  },
  {
   "cell_type": "code",
   "execution_count": 256,
   "metadata": {},
   "outputs": [
    {
     "name": "stdout",
     "output_type": "stream",
     "text": [
      "Session level conversion: 28.12 %\n",
      "User level conversion: 28.12 %\n"
     ]
    }
   ],
   "source": [
    "user_conversion = df_users.conversions.sum() / df_users.sessions.sum()\n",
    "\n",
    "print (\"Session level conversion: {:.2f} %\".format(100 * df_sessions.conversion.mean()))\n",
    "print (\"User level conversion: {:.2f} %\".format(100 * user_conversion))"
   ]
  },
  {
   "cell_type": "markdown",
   "metadata": {},
   "source": [
    "### Simulate an Experiment\n",
    "\n",
    "Now we want to simulate an experiment whereby we randomly sample users or sessions, construct the sampling distribution and compare the standard error of this distribution to the theoretical number we would expect. We can do this in two ways:\n",
    "- **By randomly selecting sessions**: under this scheme, each session is treated as if independent.\n",
    "- **By randomly selecting users**: this mimics the experimental setup described in the introduction; selecting users (using a cookie) but using session-level metrics."
   ]
  },
  {
   "cell_type": "code",
   "execution_count": 257,
   "metadata": {},
   "outputs": [],
   "source": [
    "n_simulations = 5000\n",
    "sample_size = 20000\n",
    "\n",
    "# use the bootstrap technique to simulate sampling distribution\n",
    "boot_session = []\n",
    "for _ in range(n_simulations):\n",
    "    sample = df_sessions.sample(n=sample_size, replace=True)\n",
    "    sample_mean = sample.conversion.mean()\n",
    "    boot_session.append(sample_mean)\n",
    "\n",
    "# repeat the same for users\n",
    "boot_user = []\n",
    "for _ in range(n_simulations):\n",
    "    sample = df_users.sample(n=sample_size, replace=True)\n",
    "    sample_mean = sample.conversions.sum() /sample.sessions.sum()\n",
    "    boot_user.append(sample_mean)"
   ]
  },
  {
   "cell_type": "markdown",
   "metadata": {},
   "source": [
    "Define some helper functions"
   ]
  },
  {
   "cell_type": "code",
   "execution_count": 297,
   "metadata": {},
   "outputs": [],
   "source": [
    "def get_theoretical_data(session_data, sample_size):\n",
    "    mean = np.mean(session_data.conversion)\n",
    "    se = np.sqrt(mean * (1-mean)/sample_size)\n",
    "    x = np.linspace(mean - 3*se, mean + 3*se, 100)\n",
    "    y = stats.norm.pdf(x, mean, se)\n",
    "    return (x,y)\n",
    "\n",
    "def calculate_theoretical_ci (session_data, sample_size):\n",
    "    mean = session_data.conversion.mean()\n",
    "    se = np.sqrt(mean * (1-mean)/sample_size)\n",
    "    z = 1.96\n",
    "    return (mean - z*se, mean + z*se)\n",
    "\n",
    "def calculate_unlikely_result (boot_data, ci_theoretical):\n",
    "    lower = ci_theoretical[0]\n",
    "    upper = ci_theoretical[1]\n",
    "    significant = [e for e in boot_data if e <= lower or e >= upper]\n",
    "    return len(significant) / len(boot_data)\n",
    "\n",
    "def plot_sampling_dist(boot_session, boot_user, session_data, sample_size):\n",
    "    fig, ax = plt.subplots(1, 1, figsize=(10,6))\n",
    "    sns.distplot(boot_session, hist=True, bins=50, label='Session Randomisation', hist_kws={\"alpha\":0.5});\n",
    "    sns.distplot(boot_user, hist=True, bins=50, label='User Randomisation', hist_kws={\"alpha\":0.5});\n",
    "    \n",
    "    # get theoretical distribution\n",
    "    # use average conversion from session level data\n",
    "    x,y = get_theoretical_data(session_data, sample_size)\n",
    "    plt.plot(x, y, linestyle='--', color='black', label='Theoretical Variance')\n",
    "    plt.legend(loc='best');\n",
    "\n",
    "    # labels\n",
    "    plt.ylabel('Frequency')\n",
    "    plt.xlabel('Session-level Conversion')\n",
    "    \n",
    "    plt.grid(True, alpha=0.3);"
   ]
  },
  {
   "cell_type": "markdown",
   "metadata": {},
   "source": [
    "Plotted below are three sampling distribution:\n",
    "- The theoretical sampling distribution.\n",
    "- The sampling distribution when randomising on sessions.\n",
    "- The sampling distribution when randomising on users.\n",
    "\n",
    "The theoretical and session-randomised distributions follow each other very closely - this makes sense because the independence asssumption is satisfied. The user-randomised distribution, on the other hand, is far wider than the theoretical distribution."
   ]
  },
  {
   "cell_type": "code",
   "execution_count": 298,
   "metadata": {},
   "outputs": [
    {
     "data": {
      "image/png": "[encoded data removed]",
      "text/plain": [
       "<Figure size 720x432 with 1 Axes>"
      ]
     },
     "metadata": {
      "needs_background": "light"
     },
     "output_type": "display_data"
    }
   ],
   "source": [
    "plot_sampling_dist(boot_session, boot_user, df_sessions, sample_size);"
   ]
  },
  {
   "cell_type": "markdown",
   "metadata": {},
   "source": [
    "We can quantify the effect that this added width of the sampling distribution has on the results of statistical calculations. In theory, we would expect an unlikely result ($\\>1.96 * \\sigma$ from the mean) to occur 5% of the time. The calculation below shows that is indeed the case when we randomise on session. It is not however true when we randomise on users; in this case, a false positive is 5 times as common as what we would expect."
   ]
  },
  {
   "cell_type": "code",
   "execution_count": 281,
   "metadata": {},
   "outputs": [
    {
     "name": "stdout",
     "output_type": "stream",
     "text": [
      "Percentage of Statistically Significant Results with Session Randomisation: 4.96%\n",
      "Percentage of Statistically Significant Results with User Randomisation: 26.14%\n"
     ]
    }
   ],
   "source": [
    "ci_theoretical = calculate_theoretical_ci(df_sessions, sample_size)\n",
    "print ('Percentage of Statistically Significant Results with Session Randomisation: {:.2f}%'.\n",
    "   format(100 * calculate_unlikely_result(boot_session, ci_theoretical)))\n",
    "print ('Percentage of Statistically Significant Results with User Randomisation: {:.2f}%'.\n",
    "   format(100 * calculate_unlikely_result(boot_user, ci_theoretical))) "
   ]
  },
  {
   "cell_type": "markdown",
   "metadata": {},
   "source": [
    "#### Conclusion & Acknowledgements\n",
    "\n",
    "Splitting traffic on a cookie but analysing data using session-level metrics can lead to unreliable statistical results. Because the unit of diversion is not the same as the unit of analysis, the variability of your metrics will be higher than the calculated theoretical variability. If uncorrected, this can result in more false positives\n",
    "\n",
    "In this post, I demonstrated this using simulation. Running A/A experiments is another way of observing the difference between your true empirical variability and your theoretical variability.\n",
    "\n",
    "I appreciate that this topic has been covered elsewhere I'm under no illusion that this idea is original. Some of the resources I found most useful include:\n",
    "- [The second Ghost of Experimentation: The fallacy of session based metrics](https://towardsdatascience.com/the-second-ghost-of-experimentation-the-fallacy-of-session-based-metrics-fb65006d30ff) by Skyscanner Engineering\n",
    "    - The bottom of the article details some solutions to overcome this problem.\n",
    "- Udacity A/B Testing Course"
   ]
  }
 ],
 "metadata": {
  "kernelspec": {
   "display_name": "Python 3",
   "language": "python",
   "name": "python3"
  },
  "language_info": {
   "codemirror_mode": {
    "name": "ipython",
    "version": 3
   },
   "file_extension": ".py",
   "mimetype": "text/x-python",
   "name": "python",
   "nbconvert_exporter": "python",
   "pygments_lexer": "ipython3",
   "version": "3.7.0"
  }
 },
 "nbformat": 4,
 "nbformat_minor": 2
}
