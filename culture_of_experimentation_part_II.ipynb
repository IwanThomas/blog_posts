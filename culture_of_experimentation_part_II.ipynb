{
 "cells": [
  {
   "cell_type": "markdown",
   "metadata": {},
   "source": [
    "### Contents\n",
    "\n",
    "- Lessons learnt given the low success rate of experiments\n",
    "- Incrementalism vs Innovation\n",
    "- Fail fast vs persevere\n",
    "- Negative Experiments\n",
    "- Twyman's Law\n",
    "- Judging the success of experiments - Otis Redding Problem.\n",
    "- Choice of success metrics - lifetime value vs short-term revenue\n",
    "\n",
    "\n",
    "Check out the google overlapping infrastructure paper as well - has some comments on culture."
   ]
  },
  {
   "cell_type": "code",
   "execution_count": null,
   "metadata": {},
   "outputs": [],
   "source": []
  }
 ],
 "metadata": {
  "kernelspec": {
   "display_name": "Python 3",
   "language": "python",
   "name": "python3"
  },
  "language_info": {
   "codemirror_mode": {
    "name": "ipython",
    "version": 3
   },
   "file_extension": ".py",
   "mimetype": "text/x-python",
   "name": "python",
   "nbconvert_exporter": "python",
   "pygments_lexer": "ipython3",
   "version": "3.7.0"
  }
 },
 "nbformat": 4,
 "nbformat_minor": 2
}
