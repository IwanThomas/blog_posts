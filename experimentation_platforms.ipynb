{
 "cells": [
  {
   "cell_type": "code",
   "execution_count": 2,
   "metadata": {},
   "outputs": [],
   "source": [
    "import math\n",
    "import numpy as np\n",
    "from scipy import stats\n",
    "\n",
    "from IPython.display import Image\n",
    "from IPython.core.display import HTML "
   ]
  },
  {
   "cell_type": "markdown",
   "metadata": {},
   "source": [
    "### Uber's Experimentation Platform\n",
    "\n",
    "The aim of this notebook is to understand the reasoning behind the statistical methods used in Uber's experimentation platform.  In particular, I am looking at the statistical methods used to analyse continuous metrics, as defined in figure 5."
   ]
  },
  {
   "cell_type": "code",
   "execution_count": 7,
   "metadata": {},
   "outputs": [
    {
     "data": {
      "text/html": [
       "<img src=\"http://1fykyq3mdn5r21tpna3wkdyi-wpengine.netdna-ssl.com/wp-content/uploads/2018/08/image16.png\" width=\"500\" height=\"500\"/>"
      ],
      "text/plain": [
       "<IPython.core.display.Image object>"
      ]
     },
     "execution_count": 7,
     "metadata": {},
     "output_type": "execute_result"
    }
   ],
   "source": [
    "Image(url= \"http://1fykyq3mdn5r21tpna3wkdyi-wpengine.netdna-ssl.com/wp-content/uploads/2018/08/image16.png\",\n",
    "      width=500, height=500)"
   ]
  },
  {
   "cell_type": "markdown",
   "metadata": {},
   "source": [
    "### Continuous Metrics\n",
    "\n",
    "For continuous metrics, the methodology is as follows:\n",
    "\n",
    "- Large sample size | unskewed data --> Welch’s t-test\n",
    "- Large sample size | skewed data --> MWW U Test\n",
    "- Small sample size --> Bootstrap + t-test\n",
    "\n",
    "#### Table Summary\n",
    "\n",
    "| Metric Type | Sample Size | Skew       | Statistical Method | Commentary                                                                                                                                                                                                                                                                          |\n",
    "|-------------|-------------|------------|--------------------|-------------------------------------------------------------------------------------------------------------------------------------------------------------------------------------------------------------------------------------------------------------------------------------|\n",
    "| Continuous  | Large       | Not Skewed | Welch's t-test     | Default method for analysing continuous metrics.                                                                                                                                                                                                                                   |\n",
    "| Continuous  | Large       | Skewed     | MWW U Test         | If the sampling distribution is non-normal, the MWW U Test is more powerful than the t-test. **Under what circumstances would a large sample size yield a non-normal sampling distribution? By the central limit theorem, we would expect the sampling distribution to be normal.** Perhaps they are testing a feature out on drivers in a certain geography. |  \n",
    "| Continuou   | Small       | -          | Bootstrap + t-test | According to [Wikipedia](https://en.wikipedia.org/wiki/Bootstrapping_(statistics)): > When the sample size is small, the bootstrap can offer a measure of the standard deviation that is more robust against the distortions of a particular sample.  But for small sample size, the sample may not accurately represent the population, in which case the bootstrap does not work very well|\n",
    "\n",
    "#### Questions\n",
    "- Why does the bootstrap offer a better estimate of the standard error than just computing the standard error from the standard deviation estimate of the data?\n",
    "\n",
    "Below I simulate the effect this has."
   ]
  },
  {
   "cell_type": "markdown",
   "metadata": {},
   "source": [
    "### Ratio Metrics\n",
    "\n",
    "Placeholder\n",
    "\n",
    "> Ratio metrics contain two numeric value columns, the numerator values and the denominator values, e.g., the trip completion ratio, where the numerator values are the number of completed trips, and the denominator values are the number of total trip requests.\n",
    "\n",
    "- Delta method ([Deng et al. 2011](https://alexdeng.github.io/public/files/jsm2011-deng.pdf))\n",
    "\n",
    "### Categorical Metrics\n",
    "Placeholder"
   ]
  },
  {
   "cell_type": "markdown",
   "metadata": {},
   "source": [
    "- One of our team’s main goals is to deliver one-size-fits-most methodologies of hypothesis testing \n",
    "- They perform automated outlier detection\n",
    "    - Kohavi recommends first understanding the origin of your outliers then removing them.\n"
   ]
  },
  {
   "cell_type": "code",
   "execution_count": null,
   "metadata": {},
   "outputs": [],
   "source": []
  },
  {
   "cell_type": "code",
   "execution_count": null,
   "metadata": {},
   "outputs": [],
   "source": []
  },
  {
   "cell_type": "code",
   "execution_count": 50,
   "metadata": {},
   "outputs": [],
   "source": [
    "n = 1000\n",
    "loc = 1\n",
    "scale = 1\n",
    "s = 1\n",
    "data = stats.lognorm.rvs(s, loc, scale, size=n)"
   ]
  },
  {
   "cell_type": "code",
   "execution_count": 55,
   "metadata": {},
   "outputs": [
    {
     "name": "stdout",
     "output_type": "stream",
     "text": [
      "0.06324555320336758\n",
      "0.06619491642071582\n",
      "0.06630626386014395\n"
     ]
    }
   ],
   "source": [
    "true_se = scale / math.sqrt(n)\n",
    "analytical_se = np.std(data, ddof=1) / np.sqrt(n)\n",
    "boostraped_se = bootstrapped_se(data)\n",
    "\n",
    "print (true_se * 2)\n",
    "print (analytical_se)\n",
    "print (boostraped_se)"
   ]
  },
  {
   "cell_type": "code",
   "execution_count": 54,
   "metadata": {},
   "outputs": [],
   "source": [
    "def bootstrapped_se(data):\n",
    "    sample_means = []\n",
    "    for _ in range(50000):\n",
    "        sample = np.random.choice(data, size=len(data), replace=True)\n",
    "        sample_mean = np.mean(sample)\n",
    "        sample_means.append(sample_mean)\n",
    "    return np.std(sample_means)\n"
   ]
  },
  {
   "cell_type": "markdown",
   "metadata": {},
   "source": [
    "Questions:\n",
    "- For a large sample size, how would the sampling distribution be skewed? By the central limit theorem, we would expect the sampling distribution to be normal even if the parent distribution is heavily skewed.\n",
    "- What are the assumptions of a t-test? Would they be broken above?"
   ]
  },
  {
   "cell_type": "code",
   "execution_count": null,
   "metadata": {},
   "outputs": [],
   "source": []
  }
 ],
 "metadata": {
  "kernelspec": {
   "display_name": "Python 3",
   "language": "python",
   "name": "python3"
  },
  "language_info": {
   "codemirror_mode": {
    "name": "ipython",
    "version": 3
   },
   "file_extension": ".py",
   "mimetype": "text/x-python",
   "name": "python",
   "nbconvert_exporter": "python",
   "pygments_lexer": "ipython3",
   "version": "3.7.0"
  }
 },
 "nbformat": 4,
 "nbformat_minor": 2
}
