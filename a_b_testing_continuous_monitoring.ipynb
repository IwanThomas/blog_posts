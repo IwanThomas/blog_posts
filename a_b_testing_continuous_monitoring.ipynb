{
 "cells": [
  {
   "cell_type": "markdown",
   "metadata": {},
   "source": [
    "## Continuous Monitoring in Traditional A/B Testing\n",
    "\n",
    "---\n",
    "\n",
    "You're **running a bold A/B test on your website**. Opinion is divided on whether the test is likely to be a success or not. \n",
    "- If it is a success, your stakeholders will want to launch the change as soon as possible; any delay results in major profits being lost. \n",
    "- On the other hand, an unsuccessful test may result in the company losing money or harming the user experience; in this case, you want to know about it as soon as possible, in order to stop the experiment. \n",
    "\n",
    "For any experiment, **there is value in detecting real effects as quickly as possible, and high opportunity cost in waiting to end a test.**\n",
    "\n",
    "Because of this, you may find yourself under pressure to check the results of your experiments on an ongoing basis. Each day, you may compute significance on your key metrics, and if those results are statistically significant, stop the experiment regardless of whether the sample size requirements have been met. This blog demonstrates that the effect of **continuously monitoring** or **peeking** at the results of your A/B experiments is a dramatic increase in your type I error rate, far above the alpha level chosen. \n",
    "\n",
    "Existing explanations already provide an explanation for this phenomenon. Two of my favourites include [How Not To Run an A/B Test](http://www.evanmiller.org/how-not-to-run-an-ab-test.html) and this [answer from StackExchange](https://stats.stackexchange.com/a/310132). \n",
    "\n",
    "In this blog post, I'll **use simulation to demonstrate the pernicious effect of continuous monitoring**. In the example, both the treatment and control sets are drawn from the same population. Given that both datasets are drawn from the same population, we know that we should only expect a positive result in 5% of cases (alpha = 0.05 in this example). I demonstrate that continuous monitoring greatly increases our type I error beyond the chosen alpha level."
   ]
  },
  {
   "cell_type": "code",
   "execution_count": 28,
   "metadata": {},
   "outputs": [],
   "source": [
    "import numpy as np\n",
    "import pandas as pd\n",
    "import matplotlib.pyplot as plt\n",
    "from scipy.stats import ttest_ind"
   ]
  },
  {
   "cell_type": "code",
   "execution_count": 18,
   "metadata": {},
   "outputs": [],
   "source": [
    "def generate_pvalue(sample_size, mu=5, sigma=1):\n",
    "    \"\"\"Produce a stream of p-values for a given sample_size\"\"\"\n",
    "    \n",
    "    # resample from our population each time    \n",
    "    control = np.random.normal(mu, sigma, sample_size)\n",
    "    variant = np.random.normal(mu, sigma, sample_size)\n",
    "\n",
    "    # must compare a sample of at least 2\n",
    "    for obs in range(2, sample_size):\n",
    "        _ , pvalue = ttest_ind(control[:obs], variant[:obs])\n",
    "        yield pvalue\n",
    "\n",
    "\n",
    "def simulate_trials(sample_size, n_trials=300, alpha=0.05):\n",
    "    \"\"\"\n",
    "    Returns the false positive rate if an experiment \n",
    "    is stopped the first time a result is significant\n",
    "    \"\"\"\n",
    "    m = np.zeros(n_trials)\n",
    "    for posn, trials in enumerate(range(n_trials)):\n",
    "        pvalues = generate_pvalue(sample_size)\n",
    "        for pvalue in pvalues:\n",
    "            if pvalue < alpha:\n",
    "                m[posn] = 1\n",
    "                break\n",
    "                \n",
    "    # compute the standard error using the bootstrap\n",
    "    boot = []\n",
    "    for i in range(500):\n",
    "        sample = np.random.choice(m, size=sample_size, replace=True)\n",
    "        mean = np.mean(sample)\n",
    "        boot.append(mean)\n",
    "            \n",
    "    fpr = np.mean(m)\n",
    "    se = np.std(boot)\n",
    "    \n",
    "    return (fpr, se)"
   ]
  },
  {
   "cell_type": "markdown",
   "metadata": {},
   "source": [
    "Compute results for a grid and plot"
   ]
  },
  {
   "cell_type": "code",
   "execution_count": 19,
   "metadata": {},
   "outputs": [],
   "source": [
    "sample_sizes = np.logspace(0, 4, num=10)\n",
    "sample_sizes = map(int, np.ceil(sample_sizes))\n",
    "\n",
    "d = {}\n",
    "\n",
    "# note this takes a while to run\n",
    "for sample_size in sample_sizes:\n",
    "    fpr, error = simulate_trials(sample_size)\n",
    "    d[sample_size] = {}\n",
    "    d[sample_size]['fpr'] = fpr\n",
    "    d[sample_size]['error'] = error"
   ]
  },
  {
   "cell_type": "markdown",
   "metadata": {},
   "source": [
    "Manipulate the Data for Plotting"
   ]
  },
  {
   "cell_type": "code",
   "execution_count": 20,
   "metadata": {},
   "outputs": [],
   "source": [
    "df = pd.DataFrame(d)\n",
    "df = df.T\n",
    "df.index.name = \"Sample Size\""
   ]
  },
  {
   "cell_type": "code",
   "execution_count": 27,
   "metadata": {},
   "outputs": [
    {
     "data": {
      "image/png": "[encoded data removed]",
      "text/plain": [
       "<Figure size 864x360 with 1 Axes>"
      ]
     },
     "metadata": {
      "needs_background": "light"
     },
     "output_type": "display_data"
    }
   ],
   "source": [
    "fig, ax = plt.subplots(figsize=(12, 5))\n",
    "df['fpr'].plot(ax=ax, label='Empirical FPR')\n",
    "ax.fill_between(df.index, df['fpr'],df['fpr'] - df['error'],facecolor='grey', interpolate=True, alpha=0.2)\n",
    "ax.fill_between(df.index, df['fpr'],df['fpr'] + df['error'],facecolor='grey', interpolate=True, alpha=0.2)\n",
    "\n",
    "plt.ylabel(\"False Positive Rate (Type I Error)\", fontsize='medium')\n",
    "plt.xlabel(\"Number of Observations\", fontsize='medium');\n",
    "plt.title(\"Effect of Continuous Monitoring at alpha=0.05\")\n",
    "plt.axhline(y=0.05, linestyle='-', color='red', alpha=0.7, label='Planned FPR')\n",
    "plt.ylim([0, 0.7])\n",
    "\n",
    "ax.legend(loc='best');\n",
    "plt.grid(True)"
   ]
  },
  {
   "cell_type": "markdown",
   "metadata": {},
   "source": [
    "### Comments\n",
    "\n",
    "The chart above plots the empirical false positive rate for experiments of varying size.\n",
    "\n",
    "For each experiment size, a number of trials were simulated. For each trial, the p-value was computed each time a new observation was collected. If the p-value fell below the given alpha level, the experiment results were deemed to be significant. This information was used to compute the false positive rate, by dividing the number of significant trials by the number of total trials. A measure of the standard error was obtained using the bootstrap and is used to create the 95% confidence interval plotted in light grey.\n",
    "\n",
    "The chart above clearly shows the increase in the FPR rate as a result of continuously monitoring an experiment - increases as large as 10x the planned false positive rate."
   ]
  },
  {
   "cell_type": "markdown",
   "metadata": {},
   "source": [
    "### Conclusion & Parting Thoughts\n",
    "\n",
    "**The validity of traditional A/B Tests require that the sample size be fixed in advance.**  The simulation above demonstrated that stopping experiments once results are significant results in a large increase in the false positive rate.\n",
    "\n",
    "In the introduction, I detailed the value in detecting effects as quickly as possible. **So what can we do in this situation?**\n",
    "\n",
    "- **Acknowledge and understand** why our stakeholders may want to see results before the sample size requirements are met.\n",
    "- **Provide daily experiment updates**: This is a tip I picked up from Emily Robinson's talk [A/B Testing in the Wild](https://youtu.be/SF-ryGgLOgQ?t=2100). Providing a daily email detailing any updates made in experiments helps:\n",
    "    - provide interpretation to the numbers that your stakeholders may be viewing: is this normal? Should I be worried?\n",
    "    - demonstrates that you're on top of things.\n",
    "- Implement an **early-stopping methodology**."
   ]
  }
 ],
 "metadata": {
  "kernelspec": {
   "display_name": "Python 3",
   "language": "python",
   "name": "python3"
  },
  "language_info": {
   "codemirror_mode": {
    "name": "ipython",
    "version": 3
   },
   "file_extension": ".py",
   "mimetype": "text/x-python",
   "name": "python",
   "nbconvert_exporter": "python",
   "pygments_lexer": "ipython3",
   "version": "3.7.0"
  }
 },
 "nbformat": 4,
 "nbformat_minor": 2
}
